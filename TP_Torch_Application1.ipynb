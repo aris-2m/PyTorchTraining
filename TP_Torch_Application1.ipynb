{
 "cells": [
  {
   "cell_type": "markdown",
   "id": "495aa422",
   "metadata": {},
   "source": [
    "# Application 1"
   ]
  },
  {
   "cell_type": "markdown",
   "id": "6f7cc380",
   "metadata": {},
   "source": [
    "## Membres du groupe\n",
    "\n",
    "\n",
    "1.   GUIDIBI Teddy\n",
    "2.   JALAL Alaeddine\n",
    "3.   KHATIB Asmaa\n",
    "4.   MONKOUN Aris\n",
    "5.   ROUDRI Chaimae"
   ]
  },
  {
   "cell_type": "markdown",
   "id": "d32d59c4",
   "metadata": {},
   "source": [
    "## With Sympy"
   ]
  },
  {
   "cell_type": "code",
   "execution_count": 130,
   "id": "1c612cb8",
   "metadata": {},
   "outputs": [],
   "source": [
    "import sympy as sp\n",
    "import numpy"
   ]
  },
  {
   "cell_type": "code",
   "execution_count": 131,
   "id": "31b53ea4",
   "metadata": {},
   "outputs": [],
   "source": [
    "w=sp.symbols('w')\n",
    "x=sp.symbols('x')\n",
    "b=sp.symbols('b')\n",
    "y=sp.symbols('y')"
   ]
  },
  {
   "cell_type": "code",
   "execution_count": 132,
   "id": "126fe3f9",
   "metadata": {},
   "outputs": [],
   "source": [
    "l=(sp.exp(numpy.dot(w,x) + b) -y)**2"
   ]
  },
  {
   "cell_type": "code",
   "execution_count": 133,
   "id": "13c02386",
   "metadata": {},
   "outputs": [
    {
     "data": {
      "text/latex": [
       "$\\displaystyle \\left(- y + e^{b + w x}\\right)^{2}$"
      ],
      "text/plain": [
       "(-y + exp(b + w*x))**2"
      ]
     },
     "execution_count": 133,
     "metadata": {},
     "output_type": "execute_result"
    }
   ],
   "source": [
    "l"
   ]
  },
  {
   "cell_type": "markdown",
   "id": "36800535",
   "metadata": {},
   "source": [
    "$$\n",
    "\\frac{\\partial l}{\\partial w}\n",
    "$$"
   ]
  },
  {
   "cell_type": "code",
   "execution_count": 134,
   "id": "fed0f07e",
   "metadata": {},
   "outputs": [
    {
     "data": {
      "text/latex": [
       "$\\displaystyle 2 x \\left(- y + e^{b + w x}\\right) e^{b + w x}$"
      ],
      "text/plain": [
       "2*x*(-y + exp(b + w*x))*exp(b + w*x)"
      ]
     },
     "execution_count": 134,
     "metadata": {},
     "output_type": "execute_result"
    }
   ],
   "source": [
    "sp.diff(l,w)"
   ]
  },
  {
   "cell_type": "markdown",
   "id": "e09ef290",
   "metadata": {},
   "source": [
    "$$\n",
    "\\frac{\\partial l}{\\partial x}\n",
    "$$"
   ]
  },
  {
   "cell_type": "code",
   "execution_count": 135,
   "id": "3846618f",
   "metadata": {},
   "outputs": [
    {
     "data": {
      "text/latex": [
       "$\\displaystyle 2 w \\left(- y + e^{b + w x}\\right) e^{b + w x}$"
      ],
      "text/plain": [
       "2*w*(-y + exp(b + w*x))*exp(b + w*x)"
      ]
     },
     "execution_count": 135,
     "metadata": {},
     "output_type": "execute_result"
    }
   ],
   "source": [
    "sp.diff(l,x)"
   ]
  },
  {
   "cell_type": "markdown",
   "id": "5af6702d",
   "metadata": {},
   "source": [
    "$$\n",
    "\\frac{\\partial l}{\\partial b}\n",
    "$$"
   ]
  },
  {
   "cell_type": "code",
   "execution_count": 136,
   "id": "0f154faa",
   "metadata": {},
   "outputs": [
    {
     "data": {
      "text/latex": [
       "$\\displaystyle 2 \\left(- y + e^{b + w x}\\right) e^{b + w x}$"
      ],
      "text/plain": [
       "2*(-y + exp(b + w*x))*exp(b + w*x)"
      ]
     },
     "execution_count": 136,
     "metadata": {},
     "output_type": "execute_result"
    }
   ],
   "source": [
    "sp.diff(l,b)"
   ]
  },
  {
   "cell_type": "markdown",
   "id": "5eb7a478",
   "metadata": {},
   "source": [
    " "
   ]
  },
  {
   "cell_type": "markdown",
   "id": "72f062e3",
   "metadata": {},
   "source": [
    " "
   ]
  },
  {
   "cell_type": "markdown",
   "id": "5965ac36",
   "metadata": {},
   "source": [
    "## With Torch"
   ]
  },
  {
   "cell_type": "code",
   "execution_count": 137,
   "id": "af54bb34",
   "metadata": {},
   "outputs": [],
   "source": [
    "import torch"
   ]
  },
  {
   "cell_type": "code",
   "execution_count": 138,
   "id": "34364142",
   "metadata": {},
   "outputs": [
    {
     "data": {
      "text/plain": [
       "<torch._C.Generator at 0x235f652db10>"
      ]
     },
     "execution_count": 138,
     "metadata": {},
     "output_type": "execute_result"
    }
   ],
   "source": [
    "torch.manual_seed(42) "
   ]
  },
  {
   "cell_type": "code",
   "execution_count": 139,
   "id": "355a875a",
   "metadata": {},
   "outputs": [
    {
     "data": {
      "text/plain": [
       "tensor([-4.0000, -3.1111, -2.2222, -1.3333, -0.4444,  0.4444,  1.3333,  2.2222,\n",
       "         3.1111,  4.0000], requires_grad=True)"
      ]
     },
     "execution_count": 139,
     "metadata": {},
     "output_type": "execute_result"
    }
   ],
   "source": [
    "w = torch.linspace(-4,4,10, dtype=torch.float32, requires_grad=True)\n",
    "w"
   ]
  },
  {
   "cell_type": "code",
   "execution_count": 140,
   "id": "07467879",
   "metadata": {},
   "outputs": [
    {
     "data": {
      "text/plain": [
       "tensor([-1.0000, -0.7778, -0.5556, -0.3333, -0.1111,  0.1111,  0.3333,  0.5556,\n",
       "         0.7778,  1.0000], requires_grad=True)"
      ]
     },
     "execution_count": 140,
     "metadata": {},
     "output_type": "execute_result"
    }
   ],
   "source": [
    "x = torch.linspace(-1,1,10, dtype=torch.float32, requires_grad=True)\n",
    "x"
   ]
  },
  {
   "cell_type": "code",
   "execution_count": 141,
   "id": "93718a60",
   "metadata": {},
   "outputs": [
    {
     "data": {
      "text/plain": [
       "tensor([1.], requires_grad=True)"
      ]
     },
     "execution_count": 141,
     "metadata": {},
     "output_type": "execute_result"
    }
   ],
   "source": [
    "b = torch.linspace(1,2,1, dtype=torch.float32,requires_grad=True)\n",
    "b"
   ]
  },
  {
   "cell_type": "code",
   "execution_count": 142,
   "id": "5360e34e",
   "metadata": {},
   "outputs": [],
   "source": [
    "y = 1"
   ]
  },
  {
   "cell_type": "markdown",
   "id": "963ea658",
   "metadata": {},
   "source": [
    " "
   ]
  },
  {
   "cell_type": "markdown",
   "id": "85d0d30c",
   "metadata": {},
   "source": [
    "### Graph"
   ]
  },
  {
   "cell_type": "code",
   "execution_count": 143,
   "id": "6b781214",
   "metadata": {},
   "outputs": [],
   "source": [
    "l0 = torch.matmul(w,x)"
   ]
  },
  {
   "cell_type": "code",
   "execution_count": 144,
   "id": "25a925e3",
   "metadata": {},
   "outputs": [],
   "source": [
    "l1 = l0 - b"
   ]
  },
  {
   "cell_type": "code",
   "execution_count": 145,
   "id": "39af43b0",
   "metadata": {},
   "outputs": [],
   "source": [
    "l2 = torch.exp(l1)"
   ]
  },
  {
   "cell_type": "code",
   "execution_count": 146,
   "id": "0f119f17",
   "metadata": {},
   "outputs": [],
   "source": [
    "l3 = l2 - y"
   ]
  },
  {
   "cell_type": "code",
   "execution_count": 147,
   "id": "e51a53f4",
   "metadata": {},
   "outputs": [],
   "source": [
    "l = l3 ** 2"
   ]
  },
  {
   "cell_type": "markdown",
   "id": "69bcaad9",
   "metadata": {},
   "source": [
    " "
   ]
  },
  {
   "cell_type": "markdown",
   "id": "98ab2e4e",
   "metadata": {},
   "source": [
    "### BackPropagation"
   ]
  },
  {
   "cell_type": "code",
   "execution_count": 148,
   "id": "b6ee9fd8",
   "metadata": {},
   "outputs": [],
   "source": [
    "l.backward()"
   ]
  },
  {
   "cell_type": "code",
   "execution_count": 149,
   "id": "6b2033a4",
   "metadata": {},
   "outputs": [
    {
     "name": "stdout",
     "output_type": "stream",
     "text": [
      "tensor([-3.8657e+13])\n"
     ]
    }
   ],
   "source": [
    "print(b.grad)"
   ]
  },
  {
   "cell_type": "code",
   "execution_count": 150,
   "id": "f8278373",
   "metadata": {},
   "outputs": [
    {
     "name": "stdout",
     "output_type": "stream",
     "text": [
      "tensor([-1.5463e+14, -1.2027e+14, -8.5904e+13, -5.1542e+13, -1.7181e+13,\n",
      "         1.7181e+13,  5.1542e+13,  8.5904e+13,  1.2027e+14,  1.5463e+14])\n"
     ]
    }
   ],
   "source": [
    "print(x.grad)"
   ]
  },
  {
   "cell_type": "code",
   "execution_count": 151,
   "id": "a4b6b752",
   "metadata": {},
   "outputs": [
    {
     "name": "stdout",
     "output_type": "stream",
     "text": [
      "tensor([-3.8657e+13, -3.0066e+13, -2.1476e+13, -1.2886e+13, -4.2952e+12,\n",
      "         4.2952e+12,  1.2886e+13,  2.1476e+13,  3.0066e+13,  3.8657e+13])\n"
     ]
    }
   ],
   "source": [
    "print(w.grad)"
   ]
  }
 ],
 "metadata": {
  "kernelspec": {
   "display_name": "mainconda",
   "language": "python",
   "name": "mainconda"
  },
  "language_info": {
   "codemirror_mode": {
    "name": "ipython",
    "version": 3
   },
   "file_extension": ".py",
   "mimetype": "text/x-python",
   "name": "python",
   "nbconvert_exporter": "python",
   "pygments_lexer": "ipython3",
   "version": "3.9.7"
  },
  "varInspector": {
   "cols": {
    "lenName": 16,
    "lenType": 16,
    "lenVar": 40
   },
   "kernels_config": {
    "python": {
     "delete_cmd_postfix": "",
     "delete_cmd_prefix": "del ",
     "library": "var_list.py",
     "varRefreshCmd": "print(var_dic_list())"
    },
    "r": {
     "delete_cmd_postfix": ") ",
     "delete_cmd_prefix": "rm(",
     "library": "var_list.r",
     "varRefreshCmd": "cat(var_dic_list()) "
    }
   },
   "types_to_exclude": [
    "module",
    "function",
    "builtin_function_or_method",
    "instance",
    "_Feature"
   ],
   "window_display": false
  }
 },
 "nbformat": 4,
 "nbformat_minor": 5
}
