{
 "cells": [
  {
   "cell_type": "markdown",
   "id": "d32d59c4",
   "metadata": {},
   "source": [
    "# With Sympy"
   ]
  },
  {
   "cell_type": "code",
   "execution_count": 49,
   "id": "1c612cb8",
   "metadata": {},
   "outputs": [],
   "source": [
    "import sympy as sp\n",
    "import numpy"
   ]
  },
  {
   "cell_type": "code",
   "execution_count": 50,
   "id": "31b53ea4",
   "metadata": {},
   "outputs": [],
   "source": [
    "w=sp.symbols('w')\n",
    "x=sp.symbols('x')\n",
    "b=sp.symbols('b')\n",
    "y=sp.symbols('y')"
   ]
  },
  {
   "cell_type": "code",
   "execution_count": 51,
   "id": "126fe3f9",
   "metadata": {},
   "outputs": [],
   "source": [
    "l=(sp.exp(numpy.dot(w,x) + b) -y)**2"
   ]
  },
  {
   "cell_type": "code",
   "execution_count": 52,
   "id": "13c02386",
   "metadata": {},
   "outputs": [
    {
     "data": {
      "text/latex": [
       "$\\displaystyle \\left(- y + e^{b + w x}\\right)^{2}$"
      ],
      "text/plain": [
       "(-y + exp(b + w*x))**2"
      ]
     },
     "execution_count": 52,
     "metadata": {},
     "output_type": "execute_result"
    }
   ],
   "source": [
    "l"
   ]
  },
  {
   "cell_type": "code",
   "execution_count": 53,
   "id": "fed0f07e",
   "metadata": {},
   "outputs": [
    {
     "data": {
      "text/latex": [
       "$\\displaystyle 2 x \\left(- y + e^{b + w x}\\right) e^{b + w x}$"
      ],
      "text/plain": [
       "2*x*(-y + exp(b + w*x))*exp(b + w*x)"
      ]
     },
     "execution_count": 53,
     "metadata": {},
     "output_type": "execute_result"
    }
   ],
   "source": [
    "sp.diff(l,w)"
   ]
  },
  {
   "cell_type": "code",
   "execution_count": 54,
   "id": "3846618f",
   "metadata": {},
   "outputs": [
    {
     "data": {
      "text/latex": [
       "$\\displaystyle 2 \\left(- y + e^{b + w x}\\right) e^{b + w x}$"
      ],
      "text/plain": [
       "2*(-y + exp(b + w*x))*exp(b + w*x)"
      ]
     },
     "execution_count": 54,
     "metadata": {},
     "output_type": "execute_result"
    }
   ],
   "source": [
    "sp.diff(l,b)"
   ]
  },
  {
   "cell_type": "markdown",
   "id": "5eb7a478",
   "metadata": {},
   "source": [
    " "
   ]
  },
  {
   "cell_type": "markdown",
   "id": "72f062e3",
   "metadata": {},
   "source": [
    " "
   ]
  },
  {
   "cell_type": "markdown",
   "id": "5965ac36",
   "metadata": {},
   "source": [
    "# With Torch"
   ]
  },
  {
   "cell_type": "code",
   "execution_count": 55,
   "id": "af54bb34",
   "metadata": {},
   "outputs": [],
   "source": [
    "import torch"
   ]
  },
  {
   "cell_type": "code",
   "execution_count": 64,
   "id": "355a875a",
   "metadata": {},
   "outputs": [
    {
     "data": {
      "text/plain": [
       "tensor([-4.0000, -3.1111, -2.2222, -1.3333, -0.4444,  0.4444,  1.3333,  2.2222,\n",
       "         3.1111,  4.0000], requires_grad=True)"
      ]
     },
     "execution_count": 64,
     "metadata": {},
     "output_type": "execute_result"
    }
   ],
   "source": [
    "w = torch.linspace(-4,4,10, dtype=torch.float32, requires_grad=True)\n",
    "w"
   ]
  },
  {
   "cell_type": "code",
   "execution_count": 65,
   "id": "07467879",
   "metadata": {},
   "outputs": [
    {
     "data": {
      "text/plain": [
       "tensor([-1.0000, -0.7778, -0.5556, -0.3333, -0.1111,  0.1111,  0.3333,  0.5556,\n",
       "         0.7778,  1.0000], requires_grad=True)"
      ]
     },
     "execution_count": 65,
     "metadata": {},
     "output_type": "execute_result"
    }
   ],
   "source": [
    "x = torch.linspace(-1,1,10, dtype=torch.float32, requires_grad=True)\n",
    "x"
   ]
  },
  {
   "cell_type": "code",
   "execution_count": 78,
   "id": "5360e34e",
   "metadata": {},
   "outputs": [],
   "source": [
    "b = 2\n",
    "y = 1"
   ]
  },
  {
   "cell_type": "markdown",
   "id": "963ea658",
   "metadata": {},
   "source": [
    " "
   ]
  },
  {
   "cell_type": "markdown",
   "id": "85d0d30c",
   "metadata": {},
   "source": [
    "## Graph"
   ]
  },
  {
   "cell_type": "code",
   "execution_count": 79,
   "id": "6b781214",
   "metadata": {},
   "outputs": [],
   "source": [
    "l0 = torch.dot(w,x)"
   ]
  },
  {
   "cell_type": "code",
   "execution_count": 80,
   "id": "25a925e3",
   "metadata": {},
   "outputs": [],
   "source": [
    "l1 = l0 - 2"
   ]
  },
  {
   "cell_type": "code",
   "execution_count": 81,
   "id": "39af43b0",
   "metadata": {},
   "outputs": [],
   "source": [
    "l2 = torch.exp(l1)"
   ]
  },
  {
   "cell_type": "code",
   "execution_count": 82,
   "id": "0f119f17",
   "metadata": {},
   "outputs": [],
   "source": [
    "l3 = l2 - y"
   ]
  },
  {
   "cell_type": "code",
   "execution_count": 83,
   "id": "e51a53f4",
   "metadata": {},
   "outputs": [],
   "source": [
    "l = l3 ** 2"
   ]
  },
  {
   "cell_type": "markdown",
   "id": "69bcaad9",
   "metadata": {},
   "source": [
    " "
   ]
  },
  {
   "cell_type": "markdown",
   "id": "98ab2e4e",
   "metadata": {},
   "source": [
    "## BackPropagation"
   ]
  },
  {
   "cell_type": "code",
   "execution_count": 84,
   "id": "b6ee9fd8",
   "metadata": {},
   "outputs": [],
   "source": [
    "l.backward()"
   ]
  },
  {
   "cell_type": "code",
   "execution_count": 85,
   "id": "f8278373",
   "metadata": {},
   "outputs": [
    {
     "name": "stdout",
     "output_type": "stream",
     "text": [
      "tensor([-4.1853e+13, -3.2552e+13, -2.3252e+13, -1.3951e+13, -4.6503e+12,\n",
      "         4.6503e+12,  1.3951e+13,  2.3252e+13,  3.2552e+13,  4.1853e+13])\n"
     ]
    }
   ],
   "source": [
    "print(x.grad)"
   ]
  },
  {
   "cell_type": "code",
   "execution_count": 86,
   "id": "a4b6b752",
   "metadata": {},
   "outputs": [
    {
     "name": "stdout",
     "output_type": "stream",
     "text": [
      "tensor([-1.0463e+13, -8.1381e+12, -5.8129e+12, -3.4877e+12, -1.1626e+12,\n",
      "         1.1626e+12,  3.4877e+12,  5.8129e+12,  8.1381e+12,  1.0463e+13])\n"
     ]
    }
   ],
   "source": [
    "print(w.grad)"
   ]
  },
  {
   "cell_type": "code",
   "execution_count": null,
   "id": "87c86ffb",
   "metadata": {},
   "outputs": [],
   "source": []
  }
 ],
 "metadata": {
  "kernelspec": {
   "display_name": "mainconda",
   "language": "python",
   "name": "mainconda"
  },
  "language_info": {
   "codemirror_mode": {
    "name": "ipython",
    "version": 3
   },
   "file_extension": ".py",
   "mimetype": "text/x-python",
   "name": "python",
   "nbconvert_exporter": "python",
   "pygments_lexer": "ipython3",
   "version": "3.9.7"
  },
  "varInspector": {
   "cols": {
    "lenName": 16,
    "lenType": 16,
    "lenVar": 40
   },
   "kernels_config": {
    "python": {
     "delete_cmd_postfix": "",
     "delete_cmd_prefix": "del ",
     "library": "var_list.py",
     "varRefreshCmd": "print(var_dic_list())"
    },
    "r": {
     "delete_cmd_postfix": ") ",
     "delete_cmd_prefix": "rm(",
     "library": "var_list.r",
     "varRefreshCmd": "cat(var_dic_list()) "
    }
   },
   "types_to_exclude": [
    "module",
    "function",
    "builtin_function_or_method",
    "instance",
    "_Feature"
   ],
   "window_display": false
  }
 },
 "nbformat": 4,
 "nbformat_minor": 5
}
